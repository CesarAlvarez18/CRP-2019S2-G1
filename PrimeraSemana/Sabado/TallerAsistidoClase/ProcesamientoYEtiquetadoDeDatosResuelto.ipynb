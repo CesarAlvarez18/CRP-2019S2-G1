{
 "cells": [
  {
   "cell_type": "markdown",
   "metadata": {},
   "source": [
    "# Procesamiento y Etiquetado de Datos"
   ]
  },
  {
   "cell_type": "markdown",
   "metadata": {},
   "source": [
    "**Docente:** Ph.D. John William Branch  \n",
    "**Asistente de Docencia:** Sergio Robles\n",
    "\n",
    "Clasificación y Reconocimiento de Patrones  \n",
    "Universidad Nacional - Sede Medellin"
   ]
  },
  {
   "cell_type": "markdown",
   "metadata": {},
   "source": [
    "## Librerías"
   ]
  },
  {
   "cell_type": "markdown",
   "metadata": {},
   "source": [
    "Librerías y paquetes de python a utilizar en el siguiente notebook.  \n",
    "(Deben estar previamente instalados)"
   ]
  },
  {
   "cell_type": "code",
   "execution_count": 1,
   "metadata": {},
   "outputs": [],
   "source": [
    "%matplotlib inline\n",
    "import random\n",
    "import numpy as np\n",
    "import pandas as pd\n",
    "import cv2\n",
    "import matplotlib.pyplot as plt\n",
    "import skimage as sk\n",
    "from skimage import transform\n",
    "from skimage import util\n",
    "from sklearn import preprocessing\n",
    "from scipy import ndarray"
   ]
  },
  {
   "cell_type": "code",
   "execution_count": 81,
   "metadata": {},
   "outputs": [],
   "source": [
    "# Utils\n",
    "def random_rotation(image_array: ndarray):\n",
    "    # pick a random degree of rotation between 25% on the left and 25% on the right\n",
    "    random_degree = random.uniform(-25, 25)\n",
    "    return sk.transform.rotate(image_array, random_degree)\n",
    "\n",
    "def random_noise(image_array: ndarray):\n",
    "    # add random noise to the image\n",
    "    return sk.util.random_noise(image_array)\n",
    "\n",
    "def horizontal_flip(image_array: ndarray):\n",
    "    # horizontal flip doesn't need skimage, it's easy as flipping the image array of pixels !\n",
    "    return image_array[:, ::-1]"
   ]
  },
  {
   "cell_type": "markdown",
   "metadata": {},
   "source": [
    "## Datos Estructurados"
   ]
  },
  {
   "cell_type": "markdown",
   "metadata": {},
   "source": [
    "Los datos estructurados son aquellos que estan organizados en variables o atributos. Comunmente se presentan o almacenan en matrices donde cada ejemplo es una fila de la matriz, y cada atributo, una columna."
   ]
  },
  {
   "cell_type": "code",
   "execution_count": 5,
   "metadata": {},
   "outputs": [],
   "source": [
    "# Leer los datos utilizando la libreria \"pandas\"\n",
    "df = pd.read_csv('data/data.csv', sep=\";\")"
   ]
  },
  {
   "cell_type": "code",
   "execution_count": 6,
   "metadata": {},
   "outputs": [
    {
     "data": {
      "text/html": [
       "<div>\n",
       "<style scoped>\n",
       "    .dataframe tbody tr th:only-of-type {\n",
       "        vertical-align: middle;\n",
       "    }\n",
       "\n",
       "    .dataframe tbody tr th {\n",
       "        vertical-align: top;\n",
       "    }\n",
       "\n",
       "    .dataframe thead th {\n",
       "        text-align: right;\n",
       "    }\n",
       "</style>\n",
       "<table border=\"1\" class=\"dataframe\">\n",
       "  <thead>\n",
       "    <tr style=\"text-align: right;\">\n",
       "      <th></th>\n",
       "      <th>INCIDENT_NUMBER</th>\n",
       "      <th>OFFENSE_CODE</th>\n",
       "      <th>OFFENSE_CODE_GROUP</th>\n",
       "      <th>OFFENSE_DESCRIPTION</th>\n",
       "      <th>DISTRICT</th>\n",
       "      <th>REPORTING_AREA</th>\n",
       "      <th>SHOOTING</th>\n",
       "      <th>OCCURRED_ON_DATE</th>\n",
       "      <th>YEAR</th>\n",
       "      <th>MONTH</th>\n",
       "      <th>DAY_OF_WEEK</th>\n",
       "      <th>HOUR</th>\n",
       "      <th>UCR_PART</th>\n",
       "      <th>STREET</th>\n",
       "      <th>Lat</th>\n",
       "      <th>Long</th>\n",
       "    </tr>\n",
       "  </thead>\n",
       "  <tbody>\n",
       "    <tr>\n",
       "      <td>0</td>\n",
       "      <td>I182070945</td>\n",
       "      <td>619</td>\n",
       "      <td>Larceny</td>\n",
       "      <td>LARCENY ALL OTHERS</td>\n",
       "      <td>D14</td>\n",
       "      <td>808.0</td>\n",
       "      <td>NaN</td>\n",
       "      <td>2/09/2018 13:00</td>\n",
       "      <td>2018</td>\n",
       "      <td>9</td>\n",
       "      <td>Sunday</td>\n",
       "      <td>13</td>\n",
       "      <td>Part One</td>\n",
       "      <td>LINCOLN ST</td>\n",
       "      <td>4.235779e+09</td>\n",
       "      <td>-7.113937e+09</td>\n",
       "    </tr>\n",
       "    <tr>\n",
       "      <td>1</td>\n",
       "      <td>I182070943</td>\n",
       "      <td>1402</td>\n",
       "      <td>Vandalism</td>\n",
       "      <td>VANDALISM</td>\n",
       "      <td>C11</td>\n",
       "      <td>347.0</td>\n",
       "      <td>NaN</td>\n",
       "      <td>21/08/2018 0:00</td>\n",
       "      <td>2018</td>\n",
       "      <td>8</td>\n",
       "      <td>Tuesday</td>\n",
       "      <td>0</td>\n",
       "      <td>Part Two</td>\n",
       "      <td>HECLA ST</td>\n",
       "      <td>4.230682e+09</td>\n",
       "      <td>-7.106030e+09</td>\n",
       "    </tr>\n",
       "    <tr>\n",
       "      <td>2</td>\n",
       "      <td>I182070941</td>\n",
       "      <td>3410</td>\n",
       "      <td>Towed</td>\n",
       "      <td>TOWED MOTOR VEHICLE</td>\n",
       "      <td>D4</td>\n",
       "      <td>151.0</td>\n",
       "      <td>NaN</td>\n",
       "      <td>3/09/2018 19:27</td>\n",
       "      <td>2018</td>\n",
       "      <td>9</td>\n",
       "      <td>Monday</td>\n",
       "      <td>19</td>\n",
       "      <td>Part Three</td>\n",
       "      <td>CAZENOVE ST</td>\n",
       "      <td>4.234659e+09</td>\n",
       "      <td>-7.107243e+09</td>\n",
       "    </tr>\n",
       "    <tr>\n",
       "      <td>3</td>\n",
       "      <td>I182070940</td>\n",
       "      <td>3114</td>\n",
       "      <td>Investigate Property</td>\n",
       "      <td>INVESTIGATE PROPERTY</td>\n",
       "      <td>D4</td>\n",
       "      <td>272.0</td>\n",
       "      <td>NaN</td>\n",
       "      <td>3/09/2018 21:16</td>\n",
       "      <td>2018</td>\n",
       "      <td>9</td>\n",
       "      <td>Monday</td>\n",
       "      <td>21</td>\n",
       "      <td>Part Three</td>\n",
       "      <td>NEWCOMB ST</td>\n",
       "      <td>4.233418e+09</td>\n",
       "      <td>-7.107866e+09</td>\n",
       "    </tr>\n",
       "    <tr>\n",
       "      <td>4</td>\n",
       "      <td>I182070938</td>\n",
       "      <td>3114</td>\n",
       "      <td>Investigate Property</td>\n",
       "      <td>INVESTIGATE PROPERTY</td>\n",
       "      <td>B3</td>\n",
       "      <td>421.0</td>\n",
       "      <td>NaN</td>\n",
       "      <td>3/09/2018 21:05</td>\n",
       "      <td>2018</td>\n",
       "      <td>9</td>\n",
       "      <td>Monday</td>\n",
       "      <td>21</td>\n",
       "      <td>Part Three</td>\n",
       "      <td>DELHI ST</td>\n",
       "      <td>4.227537e+09</td>\n",
       "      <td>-7.109036e+09</td>\n",
       "    </tr>\n",
       "  </tbody>\n",
       "</table>\n",
       "</div>"
      ],
      "text/plain": [
       "  INCIDENT_NUMBER  OFFENSE_CODE    OFFENSE_CODE_GROUP   OFFENSE_DESCRIPTION  \\\n",
       "0      I182070945           619               Larceny    LARCENY ALL OTHERS   \n",
       "1      I182070943          1402             Vandalism             VANDALISM   \n",
       "2      I182070941          3410                 Towed   TOWED MOTOR VEHICLE   \n",
       "3      I182070940          3114  Investigate Property  INVESTIGATE PROPERTY   \n",
       "4      I182070938          3114  Investigate Property  INVESTIGATE PROPERTY   \n",
       "\n",
       "  DISTRICT  REPORTING_AREA SHOOTING OCCURRED_ON_DATE  YEAR  MONTH DAY_OF_WEEK  \\\n",
       "0      D14           808.0      NaN  2/09/2018 13:00  2018      9      Sunday   \n",
       "1      C11           347.0      NaN  21/08/2018 0:00  2018      8     Tuesday   \n",
       "2       D4           151.0      NaN  3/09/2018 19:27  2018      9      Monday   \n",
       "3       D4           272.0      NaN  3/09/2018 21:16  2018      9      Monday   \n",
       "4       B3           421.0      NaN  3/09/2018 21:05  2018      9      Monday   \n",
       "\n",
       "   HOUR    UCR_PART       STREET           Lat          Long  \n",
       "0    13    Part One   LINCOLN ST  4.235779e+09 -7.113937e+09  \n",
       "1     0    Part Two     HECLA ST  4.230682e+09 -7.106030e+09  \n",
       "2    19  Part Three  CAZENOVE ST  4.234659e+09 -7.107243e+09  \n",
       "3    21  Part Three   NEWCOMB ST  4.233418e+09 -7.107866e+09  \n",
       "4    21  Part Three     DELHI ST  4.227537e+09 -7.109036e+09  "
      ]
     },
     "execution_count": 6,
     "metadata": {},
     "output_type": "execute_result"
    }
   ],
   "source": [
    "# Imprimir los primeros 5\n",
    "df.head()"
   ]
  },
  {
   "cell_type": "code",
   "execution_count": 8,
   "metadata": {
    "scrolled": true
   },
   "outputs": [
    {
     "data": {
      "text/plain": [
       "(319073, 16)"
      ]
     },
     "execution_count": 8,
     "metadata": {},
     "output_type": "execute_result"
    }
   ],
   "source": [
    "# Imprimir el tamaño del \"DataFrame\"\n",
    "df.shape"
   ]
  },
  {
   "cell_type": "markdown",
   "metadata": {},
   "source": [
    "### Procesamiento de Datos"
   ]
  },
  {
   "cell_type": "markdown",
   "metadata": {},
   "source": [
    "Aunque los datos estructurados esten organizados por atributos, no siempre se obtienen con las mejores condiciones. Debido a esto muchos conjuntos de datos pueden tener datos faltantes, datos errados, valores no estandarizados, etc.  \n",
    "Por esto se busca realizar ciertas operaciones o procesamiento para mejorar la calidad de los datos."
   ]
  },
  {
   "cell_type": "markdown",
   "metadata": {},
   "source": [
    "### Datos Nulos"
   ]
  },
  {
   "cell_type": "code",
   "execution_count": 9,
   "metadata": {},
   "outputs": [],
   "source": [
    "# Eliminar las filas donde al menos un dato sea nulo\n",
    "df_no_null = df.dropna(axis=0, how='any')"
   ]
  },
  {
   "cell_type": "code",
   "execution_count": 10,
   "metadata": {},
   "outputs": [
    {
     "data": {
      "text/plain": [
       "(971, 16)"
      ]
     },
     "execution_count": 10,
     "metadata": {},
     "output_type": "execute_result"
    }
   ],
   "source": [
    "df_no_null.shape"
   ]
  },
  {
   "cell_type": "code",
   "execution_count": 11,
   "metadata": {},
   "outputs": [],
   "source": [
    "df_no_null_2 = df.dropna(axis=0, how='all')"
   ]
  },
  {
   "cell_type": "code",
   "execution_count": 12,
   "metadata": {
    "scrolled": true
   },
   "outputs": [
    {
     "data": {
      "text/plain": [
       "(319073, 16)"
      ]
     },
     "execution_count": 12,
     "metadata": {},
     "output_type": "execute_result"
    }
   ],
   "source": [
    "df_no_null_2.shape"
   ]
  },
  {
   "cell_type": "markdown",
   "metadata": {},
   "source": [
    "### Nuevos Atributos"
   ]
  },
  {
   "cell_type": "code",
   "execution_count": 13,
   "metadata": {},
   "outputs": [],
   "source": [
    "df = df_no_null"
   ]
  },
  {
   "cell_type": "code",
   "execution_count": 14,
   "metadata": {},
   "outputs": [],
   "source": [
    "# Localización\n",
    "df['Location'] = list(zip(df['Lat'], df['Long']))"
   ]
  },
  {
   "cell_type": "code",
   "execution_count": 16,
   "metadata": {},
   "outputs": [
    {
     "data": {
      "text/html": [
       "<div>\n",
       "<style scoped>\n",
       "    .dataframe tbody tr th:only-of-type {\n",
       "        vertical-align: middle;\n",
       "    }\n",
       "\n",
       "    .dataframe tbody tr th {\n",
       "        vertical-align: top;\n",
       "    }\n",
       "\n",
       "    .dataframe thead th {\n",
       "        text-align: right;\n",
       "    }\n",
       "</style>\n",
       "<table border=\"1\" class=\"dataframe\">\n",
       "  <thead>\n",
       "    <tr style=\"text-align: right;\">\n",
       "      <th></th>\n",
       "      <th>INCIDENT_NUMBER</th>\n",
       "      <th>OFFENSE_CODE</th>\n",
       "      <th>OFFENSE_CODE_GROUP</th>\n",
       "      <th>OFFENSE_DESCRIPTION</th>\n",
       "      <th>DISTRICT</th>\n",
       "      <th>REPORTING_AREA</th>\n",
       "      <th>SHOOTING</th>\n",
       "      <th>OCCURRED_ON_DATE</th>\n",
       "      <th>YEAR</th>\n",
       "      <th>MONTH</th>\n",
       "      <th>DAY_OF_WEEK</th>\n",
       "      <th>HOUR</th>\n",
       "      <th>UCR_PART</th>\n",
       "      <th>STREET</th>\n",
       "      <th>Lat</th>\n",
       "      <th>Long</th>\n",
       "      <th>Location</th>\n",
       "    </tr>\n",
       "  </thead>\n",
       "  <tbody>\n",
       "    <tr>\n",
       "      <td>1295</td>\n",
       "      <td>I182069509</td>\n",
       "      <td>413</td>\n",
       "      <td>Aggravated Assault</td>\n",
       "      <td>ASSAULT - AGGRAVATED - BATTERY</td>\n",
       "      <td>E18</td>\n",
       "      <td>540.0</td>\n",
       "      <td>Y</td>\n",
       "      <td>29/08/2018 23:19</td>\n",
       "      <td>2018</td>\n",
       "      <td>8</td>\n",
       "      <td>Wednesday</td>\n",
       "      <td>23</td>\n",
       "      <td>Part One</td>\n",
       "      <td>HILLIS RD</td>\n",
       "      <td>4.225041e+09</td>\n",
       "      <td>-7.113174e+09</td>\n",
       "      <td>(4225040550.0, -7113173740.0)</td>\n",
       "    </tr>\n",
       "    <tr>\n",
       "      <td>1860</td>\n",
       "      <td>I182068876</td>\n",
       "      <td>413</td>\n",
       "      <td>Aggravated Assault</td>\n",
       "      <td>ASSAULT - AGGRAVATED - BATTERY</td>\n",
       "      <td>B2</td>\n",
       "      <td>183.0</td>\n",
       "      <td>Y</td>\n",
       "      <td>27/08/2018 22:56</td>\n",
       "      <td>2018</td>\n",
       "      <td>8</td>\n",
       "      <td>Monday</td>\n",
       "      <td>22</td>\n",
       "      <td>Part One</td>\n",
       "      <td>DUDLEY ST</td>\n",
       "      <td>4.232104e+09</td>\n",
       "      <td>-7.107215e+09</td>\n",
       "      <td>(4232104169.0, -7107215291.0)</td>\n",
       "    </tr>\n",
       "    <tr>\n",
       "      <td>3259</td>\n",
       "      <td>I182067317</td>\n",
       "      <td>111</td>\n",
       "      <td>Homicide</td>\n",
       "      <td>MURDER, NON-NEGLIGIENT MANSLAUGHTER</td>\n",
       "      <td>B2</td>\n",
       "      <td>312.0</td>\n",
       "      <td>Y</td>\n",
       "      <td>22/08/2018 15:00</td>\n",
       "      <td>2018</td>\n",
       "      <td>8</td>\n",
       "      <td>Wednesday</td>\n",
       "      <td>15</td>\n",
       "      <td>Part One</td>\n",
       "      <td>HOLLANDER ST</td>\n",
       "      <td>4.231569e+09</td>\n",
       "      <td>-7.108951e+09</td>\n",
       "      <td>(4231568920.0, -7108951391.0)</td>\n",
       "    </tr>\n",
       "    <tr>\n",
       "      <td>3260</td>\n",
       "      <td>I182067317</td>\n",
       "      <td>2662</td>\n",
       "      <td>Ballistics</td>\n",
       "      <td>BALLISTICS EVIDENCE/FOUND</td>\n",
       "      <td>B2</td>\n",
       "      <td>312.0</td>\n",
       "      <td>Y</td>\n",
       "      <td>22/08/2018 15:00</td>\n",
       "      <td>2018</td>\n",
       "      <td>8</td>\n",
       "      <td>Wednesday</td>\n",
       "      <td>15</td>\n",
       "      <td>Part Two</td>\n",
       "      <td>HOLLANDER ST</td>\n",
       "      <td>4.231569e+09</td>\n",
       "      <td>-7.108951e+09</td>\n",
       "      <td>(4231568920.0, -7108951391.0)</td>\n",
       "    </tr>\n",
       "    <tr>\n",
       "      <td>4107</td>\n",
       "      <td>I182066420</td>\n",
       "      <td>413</td>\n",
       "      <td>Aggravated Assault</td>\n",
       "      <td>ASSAULT - AGGRAVATED - BATTERY</td>\n",
       "      <td>A15</td>\n",
       "      <td>900.0</td>\n",
       "      <td>Y</td>\n",
       "      <td>19/08/2018 22:46</td>\n",
       "      <td>2018</td>\n",
       "      <td>8</td>\n",
       "      <td>Sunday</td>\n",
       "      <td>22</td>\n",
       "      <td>Part One</td>\n",
       "      <td>MCNULTY CT</td>\n",
       "      <td>4.237808e+09</td>\n",
       "      <td>-7.105784e+09</td>\n",
       "      <td>(4237808452.0, -7105784115.0)</td>\n",
       "    </tr>\n",
       "  </tbody>\n",
       "</table>\n",
       "</div>"
      ],
      "text/plain": [
       "     INCIDENT_NUMBER  OFFENSE_CODE  OFFENSE_CODE_GROUP  \\\n",
       "1295      I182069509           413  Aggravated Assault   \n",
       "1860      I182068876           413  Aggravated Assault   \n",
       "3259      I182067317           111            Homicide   \n",
       "3260      I182067317          2662          Ballistics   \n",
       "4107      I182066420           413  Aggravated Assault   \n",
       "\n",
       "                      OFFENSE_DESCRIPTION DISTRICT  REPORTING_AREA SHOOTING  \\\n",
       "1295       ASSAULT - AGGRAVATED - BATTERY      E18           540.0        Y   \n",
       "1860       ASSAULT - AGGRAVATED - BATTERY       B2           183.0        Y   \n",
       "3259  MURDER, NON-NEGLIGIENT MANSLAUGHTER       B2           312.0        Y   \n",
       "3260            BALLISTICS EVIDENCE/FOUND       B2           312.0        Y   \n",
       "4107       ASSAULT - AGGRAVATED - BATTERY      A15           900.0        Y   \n",
       "\n",
       "      OCCURRED_ON_DATE  YEAR  MONTH DAY_OF_WEEK  HOUR  UCR_PART        STREET  \\\n",
       "1295  29/08/2018 23:19  2018      8   Wednesday    23  Part One     HILLIS RD   \n",
       "1860  27/08/2018 22:56  2018      8      Monday    22  Part One     DUDLEY ST   \n",
       "3259  22/08/2018 15:00  2018      8   Wednesday    15  Part One  HOLLANDER ST   \n",
       "3260  22/08/2018 15:00  2018      8   Wednesday    15  Part Two  HOLLANDER ST   \n",
       "4107  19/08/2018 22:46  2018      8      Sunday    22  Part One    MCNULTY CT   \n",
       "\n",
       "               Lat          Long                       Location  \n",
       "1295  4.225041e+09 -7.113174e+09  (4225040550.0, -7113173740.0)  \n",
       "1860  4.232104e+09 -7.107215e+09  (4232104169.0, -7107215291.0)  \n",
       "3259  4.231569e+09 -7.108951e+09  (4231568920.0, -7108951391.0)  \n",
       "3260  4.231569e+09 -7.108951e+09  (4231568920.0, -7108951391.0)  \n",
       "4107  4.237808e+09 -7.105784e+09  (4237808452.0, -7105784115.0)  "
      ]
     },
     "execution_count": 16,
     "metadata": {},
     "output_type": "execute_result"
    }
   ],
   "source": [
    "# Función de Pandas para imprimir los primeros 5 elementos del dataset\n",
    "df.head()"
   ]
  },
  {
   "cell_type": "code",
   "execution_count": 17,
   "metadata": {},
   "outputs": [],
   "source": [
    "# Fecha y Hora separadas\n",
    "df['Date'] = df.apply(lambda x: x['OCCURRED_ON_DATE'].split(' ')[0], axis=1)\n",
    "df['Time'] = df.apply(lambda x: x['OCCURRED_ON_DATE'].split(' ')[1], axis=1)"
   ]
  },
  {
   "cell_type": "code",
   "execution_count": 18,
   "metadata": {},
   "outputs": [
    {
     "data": {
      "text/html": [
       "<div>\n",
       "<style scoped>\n",
       "    .dataframe tbody tr th:only-of-type {\n",
       "        vertical-align: middle;\n",
       "    }\n",
       "\n",
       "    .dataframe tbody tr th {\n",
       "        vertical-align: top;\n",
       "    }\n",
       "\n",
       "    .dataframe thead th {\n",
       "        text-align: right;\n",
       "    }\n",
       "</style>\n",
       "<table border=\"1\" class=\"dataframe\">\n",
       "  <thead>\n",
       "    <tr style=\"text-align: right;\">\n",
       "      <th></th>\n",
       "      <th>INCIDENT_NUMBER</th>\n",
       "      <th>OFFENSE_CODE</th>\n",
       "      <th>OFFENSE_CODE_GROUP</th>\n",
       "      <th>OFFENSE_DESCRIPTION</th>\n",
       "      <th>DISTRICT</th>\n",
       "      <th>REPORTING_AREA</th>\n",
       "      <th>SHOOTING</th>\n",
       "      <th>OCCURRED_ON_DATE</th>\n",
       "      <th>YEAR</th>\n",
       "      <th>MONTH</th>\n",
       "      <th>DAY_OF_WEEK</th>\n",
       "      <th>HOUR</th>\n",
       "      <th>UCR_PART</th>\n",
       "      <th>STREET</th>\n",
       "      <th>Lat</th>\n",
       "      <th>Long</th>\n",
       "      <th>Location</th>\n",
       "      <th>Date</th>\n",
       "      <th>Time</th>\n",
       "    </tr>\n",
       "  </thead>\n",
       "  <tbody>\n",
       "    <tr>\n",
       "      <td>1295</td>\n",
       "      <td>I182069509</td>\n",
       "      <td>413</td>\n",
       "      <td>Aggravated Assault</td>\n",
       "      <td>ASSAULT - AGGRAVATED - BATTERY</td>\n",
       "      <td>E18</td>\n",
       "      <td>540.0</td>\n",
       "      <td>Y</td>\n",
       "      <td>29/08/2018 23:19</td>\n",
       "      <td>2018</td>\n",
       "      <td>8</td>\n",
       "      <td>Wednesday</td>\n",
       "      <td>23</td>\n",
       "      <td>Part One</td>\n",
       "      <td>HILLIS RD</td>\n",
       "      <td>4.225041e+09</td>\n",
       "      <td>-7.113174e+09</td>\n",
       "      <td>(4225040550.0, -7113173740.0)</td>\n",
       "      <td>29/08/2018</td>\n",
       "      <td>23:19</td>\n",
       "    </tr>\n",
       "    <tr>\n",
       "      <td>1860</td>\n",
       "      <td>I182068876</td>\n",
       "      <td>413</td>\n",
       "      <td>Aggravated Assault</td>\n",
       "      <td>ASSAULT - AGGRAVATED - BATTERY</td>\n",
       "      <td>B2</td>\n",
       "      <td>183.0</td>\n",
       "      <td>Y</td>\n",
       "      <td>27/08/2018 22:56</td>\n",
       "      <td>2018</td>\n",
       "      <td>8</td>\n",
       "      <td>Monday</td>\n",
       "      <td>22</td>\n",
       "      <td>Part One</td>\n",
       "      <td>DUDLEY ST</td>\n",
       "      <td>4.232104e+09</td>\n",
       "      <td>-7.107215e+09</td>\n",
       "      <td>(4232104169.0, -7107215291.0)</td>\n",
       "      <td>27/08/2018</td>\n",
       "      <td>22:56</td>\n",
       "    </tr>\n",
       "    <tr>\n",
       "      <td>3259</td>\n",
       "      <td>I182067317</td>\n",
       "      <td>111</td>\n",
       "      <td>Homicide</td>\n",
       "      <td>MURDER, NON-NEGLIGIENT MANSLAUGHTER</td>\n",
       "      <td>B2</td>\n",
       "      <td>312.0</td>\n",
       "      <td>Y</td>\n",
       "      <td>22/08/2018 15:00</td>\n",
       "      <td>2018</td>\n",
       "      <td>8</td>\n",
       "      <td>Wednesday</td>\n",
       "      <td>15</td>\n",
       "      <td>Part One</td>\n",
       "      <td>HOLLANDER ST</td>\n",
       "      <td>4.231569e+09</td>\n",
       "      <td>-7.108951e+09</td>\n",
       "      <td>(4231568920.0, -7108951391.0)</td>\n",
       "      <td>22/08/2018</td>\n",
       "      <td>15:00</td>\n",
       "    </tr>\n",
       "    <tr>\n",
       "      <td>3260</td>\n",
       "      <td>I182067317</td>\n",
       "      <td>2662</td>\n",
       "      <td>Ballistics</td>\n",
       "      <td>BALLISTICS EVIDENCE/FOUND</td>\n",
       "      <td>B2</td>\n",
       "      <td>312.0</td>\n",
       "      <td>Y</td>\n",
       "      <td>22/08/2018 15:00</td>\n",
       "      <td>2018</td>\n",
       "      <td>8</td>\n",
       "      <td>Wednesday</td>\n",
       "      <td>15</td>\n",
       "      <td>Part Two</td>\n",
       "      <td>HOLLANDER ST</td>\n",
       "      <td>4.231569e+09</td>\n",
       "      <td>-7.108951e+09</td>\n",
       "      <td>(4231568920.0, -7108951391.0)</td>\n",
       "      <td>22/08/2018</td>\n",
       "      <td>15:00</td>\n",
       "    </tr>\n",
       "    <tr>\n",
       "      <td>4107</td>\n",
       "      <td>I182066420</td>\n",
       "      <td>413</td>\n",
       "      <td>Aggravated Assault</td>\n",
       "      <td>ASSAULT - AGGRAVATED - BATTERY</td>\n",
       "      <td>A15</td>\n",
       "      <td>900.0</td>\n",
       "      <td>Y</td>\n",
       "      <td>19/08/2018 22:46</td>\n",
       "      <td>2018</td>\n",
       "      <td>8</td>\n",
       "      <td>Sunday</td>\n",
       "      <td>22</td>\n",
       "      <td>Part One</td>\n",
       "      <td>MCNULTY CT</td>\n",
       "      <td>4.237808e+09</td>\n",
       "      <td>-7.105784e+09</td>\n",
       "      <td>(4237808452.0, -7105784115.0)</td>\n",
       "      <td>19/08/2018</td>\n",
       "      <td>22:46</td>\n",
       "    </tr>\n",
       "  </tbody>\n",
       "</table>\n",
       "</div>"
      ],
      "text/plain": [
       "     INCIDENT_NUMBER  OFFENSE_CODE  OFFENSE_CODE_GROUP  \\\n",
       "1295      I182069509           413  Aggravated Assault   \n",
       "1860      I182068876           413  Aggravated Assault   \n",
       "3259      I182067317           111            Homicide   \n",
       "3260      I182067317          2662          Ballistics   \n",
       "4107      I182066420           413  Aggravated Assault   \n",
       "\n",
       "                      OFFENSE_DESCRIPTION DISTRICT  REPORTING_AREA SHOOTING  \\\n",
       "1295       ASSAULT - AGGRAVATED - BATTERY      E18           540.0        Y   \n",
       "1860       ASSAULT - AGGRAVATED - BATTERY       B2           183.0        Y   \n",
       "3259  MURDER, NON-NEGLIGIENT MANSLAUGHTER       B2           312.0        Y   \n",
       "3260            BALLISTICS EVIDENCE/FOUND       B2           312.0        Y   \n",
       "4107       ASSAULT - AGGRAVATED - BATTERY      A15           900.0        Y   \n",
       "\n",
       "      OCCURRED_ON_DATE  YEAR  MONTH DAY_OF_WEEK  HOUR  UCR_PART        STREET  \\\n",
       "1295  29/08/2018 23:19  2018      8   Wednesday    23  Part One     HILLIS RD   \n",
       "1860  27/08/2018 22:56  2018      8      Monday    22  Part One     DUDLEY ST   \n",
       "3259  22/08/2018 15:00  2018      8   Wednesday    15  Part One  HOLLANDER ST   \n",
       "3260  22/08/2018 15:00  2018      8   Wednesday    15  Part Two  HOLLANDER ST   \n",
       "4107  19/08/2018 22:46  2018      8      Sunday    22  Part One    MCNULTY CT   \n",
       "\n",
       "               Lat          Long                       Location        Date  \\\n",
       "1295  4.225041e+09 -7.113174e+09  (4225040550.0, -7113173740.0)  29/08/2018   \n",
       "1860  4.232104e+09 -7.107215e+09  (4232104169.0, -7107215291.0)  27/08/2018   \n",
       "3259  4.231569e+09 -7.108951e+09  (4231568920.0, -7108951391.0)  22/08/2018   \n",
       "3260  4.231569e+09 -7.108951e+09  (4231568920.0, -7108951391.0)  22/08/2018   \n",
       "4107  4.237808e+09 -7.105784e+09  (4237808452.0, -7105784115.0)  19/08/2018   \n",
       "\n",
       "       Time  \n",
       "1295  23:19  \n",
       "1860  22:56  \n",
       "3259  15:00  \n",
       "3260  15:00  \n",
       "4107  22:46  "
      ]
     },
     "execution_count": 18,
     "metadata": {},
     "output_type": "execute_result"
    }
   ],
   "source": [
    "df.head()"
   ]
  },
  {
   "cell_type": "code",
   "execution_count": 19,
   "metadata": {},
   "outputs": [
    {
     "data": {
      "text/plain": [
       "(971, 19)"
      ]
     },
     "execution_count": 19,
     "metadata": {},
     "output_type": "execute_result"
    }
   ],
   "source": [
    "df.shape"
   ]
  },
  {
   "cell_type": "code",
   "execution_count": 20,
   "metadata": {},
   "outputs": [],
   "source": [
    "def dayOfWeekToNumber(day):\n",
    "    res = 1\n",
    "    if(day == 'Monday'):\n",
    "        res = 2\n",
    "    elif(day == 'Tuesday'):\n",
    "        res = 3\n",
    "    elif(day == 'Wednesday'):\n",
    "        res = 4\n",
    "    elif(day == 'Thursday'):\n",
    "        res = 5\n",
    "    elif(day == 'Friday'):\n",
    "        res = 6\n",
    "    elif(day == 'Saturday'):\n",
    "        res = 7\n",
    "    return res"
   ]
  },
  {
   "cell_type": "code",
   "execution_count": 21,
   "metadata": {},
   "outputs": [],
   "source": [
    "# Numero de día de la semana\n",
    "df['Number_day_of_week'] = df.apply(lambda x: dayOfWeekToNumber(x['DAY_OF_WEEK']), axis=1)"
   ]
  },
  {
   "cell_type": "code",
   "execution_count": 22,
   "metadata": {},
   "outputs": [
    {
     "data": {
      "text/html": [
       "<div>\n",
       "<style scoped>\n",
       "    .dataframe tbody tr th:only-of-type {\n",
       "        vertical-align: middle;\n",
       "    }\n",
       "\n",
       "    .dataframe tbody tr th {\n",
       "        vertical-align: top;\n",
       "    }\n",
       "\n",
       "    .dataframe thead th {\n",
       "        text-align: right;\n",
       "    }\n",
       "</style>\n",
       "<table border=\"1\" class=\"dataframe\">\n",
       "  <thead>\n",
       "    <tr style=\"text-align: right;\">\n",
       "      <th></th>\n",
       "      <th>INCIDENT_NUMBER</th>\n",
       "      <th>OFFENSE_CODE</th>\n",
       "      <th>OFFENSE_CODE_GROUP</th>\n",
       "      <th>OFFENSE_DESCRIPTION</th>\n",
       "      <th>DISTRICT</th>\n",
       "      <th>REPORTING_AREA</th>\n",
       "      <th>SHOOTING</th>\n",
       "      <th>OCCURRED_ON_DATE</th>\n",
       "      <th>YEAR</th>\n",
       "      <th>MONTH</th>\n",
       "      <th>DAY_OF_WEEK</th>\n",
       "      <th>HOUR</th>\n",
       "      <th>UCR_PART</th>\n",
       "      <th>STREET</th>\n",
       "      <th>Lat</th>\n",
       "      <th>Long</th>\n",
       "      <th>Location</th>\n",
       "      <th>Date</th>\n",
       "      <th>Time</th>\n",
       "      <th>Number_day_of_week</th>\n",
       "    </tr>\n",
       "  </thead>\n",
       "  <tbody>\n",
       "    <tr>\n",
       "      <td>1295</td>\n",
       "      <td>I182069509</td>\n",
       "      <td>413</td>\n",
       "      <td>Aggravated Assault</td>\n",
       "      <td>ASSAULT - AGGRAVATED - BATTERY</td>\n",
       "      <td>E18</td>\n",
       "      <td>540.0</td>\n",
       "      <td>Y</td>\n",
       "      <td>29/08/2018 23:19</td>\n",
       "      <td>2018</td>\n",
       "      <td>8</td>\n",
       "      <td>Wednesday</td>\n",
       "      <td>23</td>\n",
       "      <td>Part One</td>\n",
       "      <td>HILLIS RD</td>\n",
       "      <td>4.225041e+09</td>\n",
       "      <td>-7.113174e+09</td>\n",
       "      <td>(4225040550.0, -7113173740.0)</td>\n",
       "      <td>29/08/2018</td>\n",
       "      <td>23:19</td>\n",
       "      <td>4</td>\n",
       "    </tr>\n",
       "    <tr>\n",
       "      <td>1860</td>\n",
       "      <td>I182068876</td>\n",
       "      <td>413</td>\n",
       "      <td>Aggravated Assault</td>\n",
       "      <td>ASSAULT - AGGRAVATED - BATTERY</td>\n",
       "      <td>B2</td>\n",
       "      <td>183.0</td>\n",
       "      <td>Y</td>\n",
       "      <td>27/08/2018 22:56</td>\n",
       "      <td>2018</td>\n",
       "      <td>8</td>\n",
       "      <td>Monday</td>\n",
       "      <td>22</td>\n",
       "      <td>Part One</td>\n",
       "      <td>DUDLEY ST</td>\n",
       "      <td>4.232104e+09</td>\n",
       "      <td>-7.107215e+09</td>\n",
       "      <td>(4232104169.0, -7107215291.0)</td>\n",
       "      <td>27/08/2018</td>\n",
       "      <td>22:56</td>\n",
       "      <td>2</td>\n",
       "    </tr>\n",
       "    <tr>\n",
       "      <td>3259</td>\n",
       "      <td>I182067317</td>\n",
       "      <td>111</td>\n",
       "      <td>Homicide</td>\n",
       "      <td>MURDER, NON-NEGLIGIENT MANSLAUGHTER</td>\n",
       "      <td>B2</td>\n",
       "      <td>312.0</td>\n",
       "      <td>Y</td>\n",
       "      <td>22/08/2018 15:00</td>\n",
       "      <td>2018</td>\n",
       "      <td>8</td>\n",
       "      <td>Wednesday</td>\n",
       "      <td>15</td>\n",
       "      <td>Part One</td>\n",
       "      <td>HOLLANDER ST</td>\n",
       "      <td>4.231569e+09</td>\n",
       "      <td>-7.108951e+09</td>\n",
       "      <td>(4231568920.0, -7108951391.0)</td>\n",
       "      <td>22/08/2018</td>\n",
       "      <td>15:00</td>\n",
       "      <td>4</td>\n",
       "    </tr>\n",
       "    <tr>\n",
       "      <td>3260</td>\n",
       "      <td>I182067317</td>\n",
       "      <td>2662</td>\n",
       "      <td>Ballistics</td>\n",
       "      <td>BALLISTICS EVIDENCE/FOUND</td>\n",
       "      <td>B2</td>\n",
       "      <td>312.0</td>\n",
       "      <td>Y</td>\n",
       "      <td>22/08/2018 15:00</td>\n",
       "      <td>2018</td>\n",
       "      <td>8</td>\n",
       "      <td>Wednesday</td>\n",
       "      <td>15</td>\n",
       "      <td>Part Two</td>\n",
       "      <td>HOLLANDER ST</td>\n",
       "      <td>4.231569e+09</td>\n",
       "      <td>-7.108951e+09</td>\n",
       "      <td>(4231568920.0, -7108951391.0)</td>\n",
       "      <td>22/08/2018</td>\n",
       "      <td>15:00</td>\n",
       "      <td>4</td>\n",
       "    </tr>\n",
       "    <tr>\n",
       "      <td>4107</td>\n",
       "      <td>I182066420</td>\n",
       "      <td>413</td>\n",
       "      <td>Aggravated Assault</td>\n",
       "      <td>ASSAULT - AGGRAVATED - BATTERY</td>\n",
       "      <td>A15</td>\n",
       "      <td>900.0</td>\n",
       "      <td>Y</td>\n",
       "      <td>19/08/2018 22:46</td>\n",
       "      <td>2018</td>\n",
       "      <td>8</td>\n",
       "      <td>Sunday</td>\n",
       "      <td>22</td>\n",
       "      <td>Part One</td>\n",
       "      <td>MCNULTY CT</td>\n",
       "      <td>4.237808e+09</td>\n",
       "      <td>-7.105784e+09</td>\n",
       "      <td>(4237808452.0, -7105784115.0)</td>\n",
       "      <td>19/08/2018</td>\n",
       "      <td>22:46</td>\n",
       "      <td>1</td>\n",
       "    </tr>\n",
       "  </tbody>\n",
       "</table>\n",
       "</div>"
      ],
      "text/plain": [
       "     INCIDENT_NUMBER  OFFENSE_CODE  OFFENSE_CODE_GROUP  \\\n",
       "1295      I182069509           413  Aggravated Assault   \n",
       "1860      I182068876           413  Aggravated Assault   \n",
       "3259      I182067317           111            Homicide   \n",
       "3260      I182067317          2662          Ballistics   \n",
       "4107      I182066420           413  Aggravated Assault   \n",
       "\n",
       "                      OFFENSE_DESCRIPTION DISTRICT  REPORTING_AREA SHOOTING  \\\n",
       "1295       ASSAULT - AGGRAVATED - BATTERY      E18           540.0        Y   \n",
       "1860       ASSAULT - AGGRAVATED - BATTERY       B2           183.0        Y   \n",
       "3259  MURDER, NON-NEGLIGIENT MANSLAUGHTER       B2           312.0        Y   \n",
       "3260            BALLISTICS EVIDENCE/FOUND       B2           312.0        Y   \n",
       "4107       ASSAULT - AGGRAVATED - BATTERY      A15           900.0        Y   \n",
       "\n",
       "      OCCURRED_ON_DATE  YEAR  MONTH DAY_OF_WEEK  HOUR  UCR_PART        STREET  \\\n",
       "1295  29/08/2018 23:19  2018      8   Wednesday    23  Part One     HILLIS RD   \n",
       "1860  27/08/2018 22:56  2018      8      Monday    22  Part One     DUDLEY ST   \n",
       "3259  22/08/2018 15:00  2018      8   Wednesday    15  Part One  HOLLANDER ST   \n",
       "3260  22/08/2018 15:00  2018      8   Wednesday    15  Part Two  HOLLANDER ST   \n",
       "4107  19/08/2018 22:46  2018      8      Sunday    22  Part One    MCNULTY CT   \n",
       "\n",
       "               Lat          Long                       Location        Date  \\\n",
       "1295  4.225041e+09 -7.113174e+09  (4225040550.0, -7113173740.0)  29/08/2018   \n",
       "1860  4.232104e+09 -7.107215e+09  (4232104169.0, -7107215291.0)  27/08/2018   \n",
       "3259  4.231569e+09 -7.108951e+09  (4231568920.0, -7108951391.0)  22/08/2018   \n",
       "3260  4.231569e+09 -7.108951e+09  (4231568920.0, -7108951391.0)  22/08/2018   \n",
       "4107  4.237808e+09 -7.105784e+09  (4237808452.0, -7105784115.0)  19/08/2018   \n",
       "\n",
       "       Time  Number_day_of_week  \n",
       "1295  23:19                   4  \n",
       "1860  22:56                   2  \n",
       "3259  15:00                   4  \n",
       "3260  15:00                   4  \n",
       "4107  22:46                   1  "
      ]
     },
     "execution_count": 22,
     "metadata": {},
     "output_type": "execute_result"
    }
   ],
   "source": [
    "df.head()"
   ]
  },
  {
   "cell_type": "markdown",
   "metadata": {},
   "source": [
    "### Variables dummies"
   ]
  },
  {
   "cell_type": "markdown",
   "metadata": {},
   "source": [
    "Las variables o atributos categóricos son problemáticos a la hora de aplicar algunos métodos estadísticos y matemáticos. Para esto, se utiliza una técnica para generar nuevas variables que representen el dato de los atributos categóricos. Estas variables reciben el nombre de variables \"dummies\"."
   ]
  },
  {
   "cell_type": "code",
   "execution_count": 23,
   "metadata": {},
   "outputs": [],
   "source": [
    "# Función de Pandas para crear un dataframe con variables Dummies de una variable Categorica\n",
    "dummies = pd.get_dummies(df['UCR_PART'])"
   ]
  },
  {
   "cell_type": "code",
   "execution_count": 24,
   "metadata": {},
   "outputs": [
    {
     "data": {
      "text/html": [
       "<div>\n",
       "<style scoped>\n",
       "    .dataframe tbody tr th:only-of-type {\n",
       "        vertical-align: middle;\n",
       "    }\n",
       "\n",
       "    .dataframe tbody tr th {\n",
       "        vertical-align: top;\n",
       "    }\n",
       "\n",
       "    .dataframe thead th {\n",
       "        text-align: right;\n",
       "    }\n",
       "</style>\n",
       "<table border=\"1\" class=\"dataframe\">\n",
       "  <thead>\n",
       "    <tr style=\"text-align: right;\">\n",
       "      <th></th>\n",
       "      <th>Other</th>\n",
       "      <th>Part One</th>\n",
       "      <th>Part Three</th>\n",
       "      <th>Part Two</th>\n",
       "    </tr>\n",
       "  </thead>\n",
       "  <tbody>\n",
       "    <tr>\n",
       "      <td>1295</td>\n",
       "      <td>0</td>\n",
       "      <td>1</td>\n",
       "      <td>0</td>\n",
       "      <td>0</td>\n",
       "    </tr>\n",
       "    <tr>\n",
       "      <td>1860</td>\n",
       "      <td>0</td>\n",
       "      <td>1</td>\n",
       "      <td>0</td>\n",
       "      <td>0</td>\n",
       "    </tr>\n",
       "    <tr>\n",
       "      <td>3259</td>\n",
       "      <td>0</td>\n",
       "      <td>1</td>\n",
       "      <td>0</td>\n",
       "      <td>0</td>\n",
       "    </tr>\n",
       "    <tr>\n",
       "      <td>3260</td>\n",
       "      <td>0</td>\n",
       "      <td>0</td>\n",
       "      <td>0</td>\n",
       "      <td>1</td>\n",
       "    </tr>\n",
       "    <tr>\n",
       "      <td>4107</td>\n",
       "      <td>0</td>\n",
       "      <td>1</td>\n",
       "      <td>0</td>\n",
       "      <td>0</td>\n",
       "    </tr>\n",
       "  </tbody>\n",
       "</table>\n",
       "</div>"
      ],
      "text/plain": [
       "      Other  Part One  Part Three  Part Two\n",
       "1295      0         1           0         0\n",
       "1860      0         1           0         0\n",
       "3259      0         1           0         0\n",
       "3260      0         0           0         1\n",
       "4107      0         1           0         0"
      ]
     },
     "execution_count": 24,
     "metadata": {},
     "output_type": "execute_result"
    }
   ],
   "source": [
    "dummies.head()"
   ]
  },
  {
   "cell_type": "code",
   "execution_count": 25,
   "metadata": {},
   "outputs": [],
   "source": [
    "# Función de Pandas para concatenar dos dataframes\n",
    "df = pd.concat([df, dummies], axis=1)"
   ]
  },
  {
   "cell_type": "code",
   "execution_count": 26,
   "metadata": {
    "scrolled": true
   },
   "outputs": [
    {
     "data": {
      "text/html": [
       "<div>\n",
       "<style scoped>\n",
       "    .dataframe tbody tr th:only-of-type {\n",
       "        vertical-align: middle;\n",
       "    }\n",
       "\n",
       "    .dataframe tbody tr th {\n",
       "        vertical-align: top;\n",
       "    }\n",
       "\n",
       "    .dataframe thead th {\n",
       "        text-align: right;\n",
       "    }\n",
       "</style>\n",
       "<table border=\"1\" class=\"dataframe\">\n",
       "  <thead>\n",
       "    <tr style=\"text-align: right;\">\n",
       "      <th></th>\n",
       "      <th>INCIDENT_NUMBER</th>\n",
       "      <th>OFFENSE_CODE</th>\n",
       "      <th>OFFENSE_CODE_GROUP</th>\n",
       "      <th>OFFENSE_DESCRIPTION</th>\n",
       "      <th>DISTRICT</th>\n",
       "      <th>REPORTING_AREA</th>\n",
       "      <th>SHOOTING</th>\n",
       "      <th>OCCURRED_ON_DATE</th>\n",
       "      <th>YEAR</th>\n",
       "      <th>MONTH</th>\n",
       "      <th>...</th>\n",
       "      <th>Lat</th>\n",
       "      <th>Long</th>\n",
       "      <th>Location</th>\n",
       "      <th>Date</th>\n",
       "      <th>Time</th>\n",
       "      <th>Number_day_of_week</th>\n",
       "      <th>Other</th>\n",
       "      <th>Part One</th>\n",
       "      <th>Part Three</th>\n",
       "      <th>Part Two</th>\n",
       "    </tr>\n",
       "  </thead>\n",
       "  <tbody>\n",
       "    <tr>\n",
       "      <td>1295</td>\n",
       "      <td>I182069509</td>\n",
       "      <td>413</td>\n",
       "      <td>Aggravated Assault</td>\n",
       "      <td>ASSAULT - AGGRAVATED - BATTERY</td>\n",
       "      <td>E18</td>\n",
       "      <td>540.0</td>\n",
       "      <td>Y</td>\n",
       "      <td>29/08/2018 23:19</td>\n",
       "      <td>2018</td>\n",
       "      <td>8</td>\n",
       "      <td>...</td>\n",
       "      <td>4.225041e+09</td>\n",
       "      <td>-7.113174e+09</td>\n",
       "      <td>(4225040550.0, -7113173740.0)</td>\n",
       "      <td>29/08/2018</td>\n",
       "      <td>23:19</td>\n",
       "      <td>4</td>\n",
       "      <td>0</td>\n",
       "      <td>1</td>\n",
       "      <td>0</td>\n",
       "      <td>0</td>\n",
       "    </tr>\n",
       "    <tr>\n",
       "      <td>1860</td>\n",
       "      <td>I182068876</td>\n",
       "      <td>413</td>\n",
       "      <td>Aggravated Assault</td>\n",
       "      <td>ASSAULT - AGGRAVATED - BATTERY</td>\n",
       "      <td>B2</td>\n",
       "      <td>183.0</td>\n",
       "      <td>Y</td>\n",
       "      <td>27/08/2018 22:56</td>\n",
       "      <td>2018</td>\n",
       "      <td>8</td>\n",
       "      <td>...</td>\n",
       "      <td>4.232104e+09</td>\n",
       "      <td>-7.107215e+09</td>\n",
       "      <td>(4232104169.0, -7107215291.0)</td>\n",
       "      <td>27/08/2018</td>\n",
       "      <td>22:56</td>\n",
       "      <td>2</td>\n",
       "      <td>0</td>\n",
       "      <td>1</td>\n",
       "      <td>0</td>\n",
       "      <td>0</td>\n",
       "    </tr>\n",
       "    <tr>\n",
       "      <td>3259</td>\n",
       "      <td>I182067317</td>\n",
       "      <td>111</td>\n",
       "      <td>Homicide</td>\n",
       "      <td>MURDER, NON-NEGLIGIENT MANSLAUGHTER</td>\n",
       "      <td>B2</td>\n",
       "      <td>312.0</td>\n",
       "      <td>Y</td>\n",
       "      <td>22/08/2018 15:00</td>\n",
       "      <td>2018</td>\n",
       "      <td>8</td>\n",
       "      <td>...</td>\n",
       "      <td>4.231569e+09</td>\n",
       "      <td>-7.108951e+09</td>\n",
       "      <td>(4231568920.0, -7108951391.0)</td>\n",
       "      <td>22/08/2018</td>\n",
       "      <td>15:00</td>\n",
       "      <td>4</td>\n",
       "      <td>0</td>\n",
       "      <td>1</td>\n",
       "      <td>0</td>\n",
       "      <td>0</td>\n",
       "    </tr>\n",
       "    <tr>\n",
       "      <td>3260</td>\n",
       "      <td>I182067317</td>\n",
       "      <td>2662</td>\n",
       "      <td>Ballistics</td>\n",
       "      <td>BALLISTICS EVIDENCE/FOUND</td>\n",
       "      <td>B2</td>\n",
       "      <td>312.0</td>\n",
       "      <td>Y</td>\n",
       "      <td>22/08/2018 15:00</td>\n",
       "      <td>2018</td>\n",
       "      <td>8</td>\n",
       "      <td>...</td>\n",
       "      <td>4.231569e+09</td>\n",
       "      <td>-7.108951e+09</td>\n",
       "      <td>(4231568920.0, -7108951391.0)</td>\n",
       "      <td>22/08/2018</td>\n",
       "      <td>15:00</td>\n",
       "      <td>4</td>\n",
       "      <td>0</td>\n",
       "      <td>0</td>\n",
       "      <td>0</td>\n",
       "      <td>1</td>\n",
       "    </tr>\n",
       "    <tr>\n",
       "      <td>4107</td>\n",
       "      <td>I182066420</td>\n",
       "      <td>413</td>\n",
       "      <td>Aggravated Assault</td>\n",
       "      <td>ASSAULT - AGGRAVATED - BATTERY</td>\n",
       "      <td>A15</td>\n",
       "      <td>900.0</td>\n",
       "      <td>Y</td>\n",
       "      <td>19/08/2018 22:46</td>\n",
       "      <td>2018</td>\n",
       "      <td>8</td>\n",
       "      <td>...</td>\n",
       "      <td>4.237808e+09</td>\n",
       "      <td>-7.105784e+09</td>\n",
       "      <td>(4237808452.0, -7105784115.0)</td>\n",
       "      <td>19/08/2018</td>\n",
       "      <td>22:46</td>\n",
       "      <td>1</td>\n",
       "      <td>0</td>\n",
       "      <td>1</td>\n",
       "      <td>0</td>\n",
       "      <td>0</td>\n",
       "    </tr>\n",
       "  </tbody>\n",
       "</table>\n",
       "<p>5 rows × 24 columns</p>\n",
       "</div>"
      ],
      "text/plain": [
       "     INCIDENT_NUMBER  OFFENSE_CODE  OFFENSE_CODE_GROUP  \\\n",
       "1295      I182069509           413  Aggravated Assault   \n",
       "1860      I182068876           413  Aggravated Assault   \n",
       "3259      I182067317           111            Homicide   \n",
       "3260      I182067317          2662          Ballistics   \n",
       "4107      I182066420           413  Aggravated Assault   \n",
       "\n",
       "                      OFFENSE_DESCRIPTION DISTRICT  REPORTING_AREA SHOOTING  \\\n",
       "1295       ASSAULT - AGGRAVATED - BATTERY      E18           540.0        Y   \n",
       "1860       ASSAULT - AGGRAVATED - BATTERY       B2           183.0        Y   \n",
       "3259  MURDER, NON-NEGLIGIENT MANSLAUGHTER       B2           312.0        Y   \n",
       "3260            BALLISTICS EVIDENCE/FOUND       B2           312.0        Y   \n",
       "4107       ASSAULT - AGGRAVATED - BATTERY      A15           900.0        Y   \n",
       "\n",
       "      OCCURRED_ON_DATE  YEAR  MONTH  ...           Lat          Long  \\\n",
       "1295  29/08/2018 23:19  2018      8  ...  4.225041e+09 -7.113174e+09   \n",
       "1860  27/08/2018 22:56  2018      8  ...  4.232104e+09 -7.107215e+09   \n",
       "3259  22/08/2018 15:00  2018      8  ...  4.231569e+09 -7.108951e+09   \n",
       "3260  22/08/2018 15:00  2018      8  ...  4.231569e+09 -7.108951e+09   \n",
       "4107  19/08/2018 22:46  2018      8  ...  4.237808e+09 -7.105784e+09   \n",
       "\n",
       "                           Location        Date   Time  Number_day_of_week  \\\n",
       "1295  (4225040550.0, -7113173740.0)  29/08/2018  23:19                   4   \n",
       "1860  (4232104169.0, -7107215291.0)  27/08/2018  22:56                   2   \n",
       "3259  (4231568920.0, -7108951391.0)  22/08/2018  15:00                   4   \n",
       "3260  (4231568920.0, -7108951391.0)  22/08/2018  15:00                   4   \n",
       "4107  (4237808452.0, -7105784115.0)  19/08/2018  22:46                   1   \n",
       "\n",
       "     Other Part One Part Three  Part Two  \n",
       "1295     0        1          0         0  \n",
       "1860     0        1          0         0  \n",
       "3259     0        1          0         0  \n",
       "3260     0        0          0         1  \n",
       "4107     0        1          0         0  \n",
       "\n",
       "[5 rows x 24 columns]"
      ]
     },
     "execution_count": 26,
     "metadata": {},
     "output_type": "execute_result"
    }
   ],
   "source": [
    "df.head()"
   ]
  },
  {
   "cell_type": "code",
   "execution_count": 27,
   "metadata": {},
   "outputs": [
    {
     "data": {
      "text/plain": [
       "Index(['INCIDENT_NUMBER', 'OFFENSE_CODE', 'OFFENSE_CODE_GROUP',\n",
       "       'OFFENSE_DESCRIPTION', 'DISTRICT', 'REPORTING_AREA', 'SHOOTING',\n",
       "       'OCCURRED_ON_DATE', 'YEAR', 'MONTH', 'DAY_OF_WEEK', 'HOUR', 'UCR_PART',\n",
       "       'STREET', 'Lat', 'Long', 'Location', 'Date', 'Time',\n",
       "       'Number_day_of_week', 'Other', 'Part One', 'Part Three', 'Part Two'],\n",
       "      dtype='object')"
      ]
     },
     "execution_count": 27,
     "metadata": {},
     "output_type": "execute_result"
    }
   ],
   "source": [
    "# Función de Pandas para ver las columnas o atributos de un dataframe\n",
    "df.columns"
   ]
  },
  {
   "cell_type": "markdown",
   "metadata": {},
   "source": [
    "### Análisis Estadístico"
   ]
  },
  {
   "cell_type": "markdown",
   "metadata": {},
   "source": [
    "Al realizar análisis estadístico es posible concluir premisas erradas. Esto por la poco o baja calidad que pueden tener los datos. Por esto, se realizó todo un procesamiento con el fin de mejorar la precisión de los resultados estadísticos."
   ]
  },
  {
   "cell_type": "code",
   "execution_count": 20,
   "metadata": {
    "scrolled": false
   },
   "outputs": [
    {
     "data": {
      "text/plain": [
       "HOUR\n",
       "0     103\n",
       "1      45\n",
       "2      61\n",
       "3      25\n",
       "4      17\n",
       "5       7\n",
       "6      10\n",
       "8       7\n",
       "9       4\n",
       "10     17\n",
       "11     13\n",
       "12     18\n",
       "13     40\n",
       "14     30\n",
       "15     40\n",
       "16     83\n",
       "17     41\n",
       "18     59\n",
       "19     55\n",
       "20     48\n",
       "21     69\n",
       "22     89\n",
       "23     90\n",
       "Name: INCIDENT_NUMBER, dtype: int64"
      ]
     },
     "execution_count": 20,
     "metadata": {},
     "output_type": "execute_result"
    }
   ],
   "source": [
    "# Función de Pandas para agrupar los datos de un dataframe\n",
    "df.groupby('HOUR').count()['INCIDENT_NUMBER']"
   ]
  },
  {
   "cell_type": "code",
   "execution_count": 19,
   "metadata": {
    "scrolled": true
   },
   "outputs": [
    {
     "data": {
      "text/plain": [
       "Number_day_of_week\n",
       "1    11.809524\n",
       "2    15.446602\n",
       "3    14.345794\n",
       "4    15.633588\n",
       "5    14.095238\n",
       "6    15.482014\n",
       "7    10.536697\n",
       "Name: HOUR, dtype: float64"
      ]
     },
     "execution_count": 19,
     "metadata": {},
     "output_type": "execute_result"
    }
   ],
   "source": [
    "df.groupby('Number_day_of_week').mean()['HOUR']"
   ]
  },
  {
   "cell_type": "markdown",
   "metadata": {},
   "source": [
    "### Normalización y Otros"
   ]
  },
  {
   "cell_type": "markdown",
   "metadata": {},
   "source": [
    "La normalización de los datos es un paso importante en la utilizacón de modelos matemáticos y computacionales. Esta le permite a los modelos a utilizar encontrar el resultado en un menor número de pasos y/o repeticiones, así como mejorar la precisión entre las diferentes dimensiones (variables) que los datos puedan tener."
   ]
  },
  {
   "cell_type": "code",
   "execution_count": 28,
   "metadata": {},
   "outputs": [],
   "source": [
    "# Generación de datos aleatorios\n",
    "xs = np.random.uniform(-5, 5, (100))\n",
    "ys = np.random.uniform(-5, 5, (100))"
   ]
  },
  {
   "cell_type": "code",
   "execution_count": 29,
   "metadata": {},
   "outputs": [
    {
     "data": {
      "text/plain": [
       "[-6, 6, -6, 6]"
      ]
     },
     "execution_count": 29,
     "metadata": {},
     "output_type": "execute_result"
    },
    {
     "data": {
      "image/png": "[encoded data removed]",
      "text/plain": [
       "<Figure size 432x288 with 1 Axes>"
      ]
     },
     "metadata": {
      "needs_background": "light"
     },
     "output_type": "display_data"
    }
   ],
   "source": [
    "# Plot de datos XS y YS\n",
    "plt.plot(xs, ys, 'ro')\n",
    "plt.axis([-6, 6, -6, 6])"
   ]
  },
  {
   "cell_type": "code",
   "execution_count": 30,
   "metadata": {},
   "outputs": [],
   "source": [
    "# Función de Sklearn para preprocesamiento de datos\n",
    "X_scaled = preprocessing.scale(xs)\n",
    "Y_scaled = preprocessing.scale(ys)"
   ]
  },
  {
   "cell_type": "code",
   "execution_count": 31,
   "metadata": {},
   "outputs": [
    {
     "data": {
      "text/plain": [
       "[-5, 5, -5, 5]"
      ]
     },
     "execution_count": 31,
     "metadata": {},
     "output_type": "execute_result"
    },
    {
     "data": {
      "image/png": "[encoded data removed]",
      "text/plain": [
       "<Figure size 432x288 with 1 Axes>"
      ]
     },
     "metadata": {
      "needs_background": "light"
     },
     "output_type": "display_data"
    }
   ],
   "source": [
    "plt.plot(X_scaled, Y_scaled, 'bo')\n",
    "plt.axis([-5, 5, -5, 5])"
   ]
  },
  {
   "cell_type": "code",
   "execution_count": 32,
   "metadata": {},
   "outputs": [],
   "source": [
    "# Función de Sklearn para normalización de datos\n",
    "X_normalized = preprocessing.normalize([X_scaled], norm='l2')\n",
    "Y_normalized = preprocessing.normalize([Y_scaled], norm='l2')"
   ]
  },
  {
   "cell_type": "code",
   "execution_count": 33,
   "metadata": {},
   "outputs": [
    {
     "data": {
      "text/plain": [
       "[-0.5, 0.5, -0.5, 0.5]"
      ]
     },
     "execution_count": 33,
     "metadata": {},
     "output_type": "execute_result"
    },
    {
     "data": {
      "image/png": "[encoded data removed]",
      "text/plain": [
       "<Figure size 432x288 with 1 Axes>"
      ]
     },
     "metadata": {
      "needs_background": "light"
     },
     "output_type": "display_data"
    }
   ],
   "source": [
    "plt.plot(X_normalized, Y_normalized, 'go')\n",
    "plt.axis([-0.5, 0.5, -0.5, 0.5])"
   ]
  },
  {
   "cell_type": "markdown",
   "metadata": {},
   "source": [
    "## Datos No Estructurados"
   ]
  },
  {
   "cell_type": "markdown",
   "metadata": {},
   "source": [
    "Los datos **no** estructurados se procesan diferente a los estructurados. Esto porque estos tipos de datos poseen características diferentes. Por ejemplo, una imagen tiene sus datos distribuidos de manera espacial, por lo que contiene más información que la que a simple vista se puede observar."
   ]
  },
  {
   "cell_type": "code",
   "execution_count": 34,
   "metadata": {},
   "outputs": [],
   "source": [
    "images = []\n",
    "data = []"
   ]
  },
  {
   "cell_type": "code",
   "execution_count": 50,
   "metadata": {},
   "outputs": [],
   "source": [
    "for i in range(11):\n",
    "    img = cv2.imread('data/images/img'+str(i)+'.jpg') # Lectura de Imagen\n",
    "    img = cv2.cvtColor(img, cv2.COLOR_BGR2RGB) # Transformación de Imagen de BGR a RGB\n",
    "    images.append(img) # Añadiendo la imagen leida a una lista"
   ]
  },
  {
   "cell_type": "code",
   "execution_count": 61,
   "metadata": {},
   "outputs": [],
   "source": [
    "index = 0"
   ]
  },
  {
   "cell_type": "code",
   "execution_count": 65,
   "metadata": {},
   "outputs": [],
   "source": [
    "index += 1"
   ]
  },
  {
   "cell_type": "code",
   "execution_count": 66,
   "metadata": {
    "scrolled": true
   },
   "outputs": [
    {
     "data": {
      "text/plain": [
       "<matplotlib.image.AxesImage at 0x19936d74e88>"
      ]
     },
     "execution_count": 66,
     "metadata": {},
     "output_type": "execute_result"
    },
    {
     "data": {
      "image/png": "[encoded data removed]",
      "text/plain": [
       "<Figure size 432x288 with 1 Axes>"
      ]
     },
     "metadata": {
      "needs_background": "light"
     },
     "output_type": "display_data"
    }
   ],
   "source": [
    "# Función de Matplotlib para ver de una imagen\n",
    "plt.imshow(images[index])"
   ]
  },
  {
   "cell_type": "markdown",
   "metadata": {},
   "source": [
    "### Etiquetado"
   ]
  },
  {
   "cell_type": "markdown",
   "metadata": {},
   "source": [
    "El etiquetado en un sistema de clasificación de patrones es una de las tareas más importantes. Esto porque un computador \"aprende\" a resolver un problema de una manera distinta a la de un humano. El se basa en los datos o ejemplos que sea posible observar. Por esto, si el etiquetado de un conjunto de datos está mal elaborado, el computador no podrá resolver el problema de manera óptima."
   ]
  },
  {
   "cell_type": "code",
   "execution_count": 68,
   "metadata": {},
   "outputs": [],
   "source": [
    "label = [\"Mouse\", \"Agenda\", \"Agenda\", \"Marcador\", \"Tijeras\", \"Cinta\", \"Mouse\", \"Marcador\", \"Tijeras\", \"Cinta\", \"Tijeras\"]"
   ]
  },
  {
   "cell_type": "code",
   "execution_count": 69,
   "metadata": {},
   "outputs": [
    {
     "ename": "IndexError",
     "evalue": "list index out of range",
     "output_type": "error",
     "traceback": [
      "\u001b[1;31m---------------------------------------------------------------------------\u001b[0m",
      "\u001b[1;31mIndexError\u001b[0m                                Traceback (most recent call last)",
      "\u001b[1;32m<ipython-input-69-4d644583c766>\u001b[0m in \u001b[0;36m<module>\u001b[1;34m\u001b[0m\n\u001b[0;32m      1\u001b[0m \u001b[1;32mfor\u001b[0m \u001b[0mi\u001b[0m \u001b[1;32min\u001b[0m \u001b[0mrange\u001b[0m\u001b[1;33m(\u001b[0m\u001b[0mlen\u001b[0m\u001b[1;33m(\u001b[0m\u001b[0mimages\u001b[0m\u001b[1;33m)\u001b[0m\u001b[1;33m)\u001b[0m\u001b[1;33m:\u001b[0m\u001b[1;33m\u001b[0m\u001b[1;33m\u001b[0m\u001b[0m\n\u001b[1;32m----> 2\u001b[1;33m     \u001b[0mdata\u001b[0m\u001b[1;33m.\u001b[0m\u001b[0mappend\u001b[0m\u001b[1;33m(\u001b[0m\u001b[1;33m[\u001b[0m\u001b[0mimages\u001b[0m\u001b[1;33m[\u001b[0m\u001b[0mi\u001b[0m\u001b[1;33m]\u001b[0m\u001b[1;33m,\u001b[0m \u001b[0mlabel\u001b[0m\u001b[1;33m[\u001b[0m\u001b[0mi\u001b[0m\u001b[1;33m]\u001b[0m\u001b[1;33m]\u001b[0m\u001b[1;33m)\u001b[0m\u001b[1;33m\u001b[0m\u001b[1;33m\u001b[0m\u001b[0m\n\u001b[0m",
      "\u001b[1;31mIndexError\u001b[0m: list index out of range"
     ]
    }
   ],
   "source": [
    "for i in range(len(images)):\n",
    "    data.append([images[i], label[i]])"
   ]
  },
  {
   "cell_type": "code",
   "execution_count": 39,
   "metadata": {},
   "outputs": [
    {
     "name": "stdout",
     "output_type": "stream",
     "text": [
      "Mouse\n",
      "Agenda\n",
      "Agenda\n",
      "Marcador\n",
      "Tijeras\n",
      "Cinta\n",
      "Mouse\n",
      "Marcador\n",
      "Tijeras\n",
      "Cinta\n",
      "Tijeras\n"
     ]
    }
   ],
   "source": [
    "for i in range(len(data)):\n",
    "    print(data[i][1])"
   ]
  },
  {
   "cell_type": "markdown",
   "metadata": {},
   "source": [
    "### Normalización y Otros"
   ]
  },
  {
   "cell_type": "markdown",
   "metadata": {},
   "source": [
    "Los datos no estructurados también pueden ser normalizados. Para las imágenes se realizan 3 tipos de procesos importantes: ajustar dimensionalidad (Resize), normalizar valores de intensidad (Normalize) y aumentar el dato (Augmentation Data)"
   ]
  },
  {
   "cell_type": "code",
   "execution_count": 72,
   "metadata": {},
   "outputs": [],
   "source": [
    "index = 0"
   ]
  },
  {
   "cell_type": "code",
   "execution_count": 73,
   "metadata": {
    "scrolled": true
   },
   "outputs": [
    {
     "data": {
      "text/plain": [
       "(64, 64, 3)"
      ]
     },
     "execution_count": 73,
     "metadata": {},
     "output_type": "execute_result"
    }
   ],
   "source": [
    "index += 1\n",
    "images[index].shape"
   ]
  },
  {
   "cell_type": "code",
   "execution_count": 75,
   "metadata": {},
   "outputs": [],
   "source": [
    "images_resize = []"
   ]
  },
  {
   "cell_type": "code",
   "execution_count": 76,
   "metadata": {},
   "outputs": [],
   "source": [
    "for i in images:\n",
    "    aux = cv2.resize(i,(128,128)) # Función para reescalar el tamaño de una imagen\n",
    "    images_resize.append(aux)"
   ]
  },
  {
   "cell_type": "code",
   "execution_count": 78,
   "metadata": {},
   "outputs": [],
   "source": [
    "images_normalize = []"
   ]
  },
  {
   "cell_type": "code",
   "execution_count": 79,
   "metadata": {},
   "outputs": [],
   "source": [
    "for i in images_resize:\n",
    "    aux = cv2.normalize(i, None, alpha=0, beta=1, norm_type=cv2.NORM_MINMAX, dtype=cv2.CV_32F) # Función para Normalizar los valores de intensidad de una imagen\n",
    "    images_normalize.append(aux)"
   ]
  },
  {
   "cell_type": "markdown",
   "metadata": {},
   "source": [
    "### Images augmentation"
   ]
  },
  {
   "cell_type": "code",
   "execution_count": 80,
   "metadata": {},
   "outputs": [],
   "source": [
    "images = images_normalize"
   ]
  },
  {
   "cell_type": "code",
   "execution_count": 82,
   "metadata": {},
   "outputs": [],
   "source": [
    "# dictionary of the transformations functions we defined earlier\n",
    "available_transformations = {\n",
    "    'rotate': random_rotation,\n",
    "    'noise': random_noise,\n",
    "    'horizontal_flip': horizontal_flip\n",
    "}\n",
    "\n",
    "# Bloque de código para aplicar augmentation a un conjunto de imagenes\n",
    "augmentation_images = []\n",
    "for img in images:\n",
    "    num_transformations_to_apply = random.randint(1, len(available_transformations))\n",
    "    num_transformations = 0\n",
    "    transformed_image = None\n",
    "    while num_transformations <= num_transformations_to_apply:\n",
    "        # choose a random transformation to apply for a single image\n",
    "        key = random.choice(list(available_transformations))\n",
    "        img = random.choice(list(images))\n",
    "        transformed_image = available_transformations[key](img)\n",
    "        num_transformations += 1\n",
    "        augmentation_images.append(transformed_image)"
   ]
  },
  {
   "cell_type": "code",
   "execution_count": 85,
   "metadata": {},
   "outputs": [
    {
     "name": "stderr",
     "output_type": "stream",
     "text": [
      "Clipping input data to the valid range for imshow with RGB data ([0..1] for floats or [0..255] for integers).\n"
     ]
    },
    {
     "data": {
      "text/plain": [
       "<matplotlib.image.AxesImage at 0x19937462e08>"
      ]
     },
     "execution_count": 85,
     "metadata": {},
     "output_type": "execute_result"
    },
    {
     "data": {
      "image/png": "[encoded data removed]",
      "text/plain": [
       "<Figure size 432x288 with 1 Axes>"
      ]
     },
     "metadata": {
      "needs_background": "light"
     },
     "output_type": "display_data"
    }
   ],
   "source": [
    "plt.imshow(augmentation_images[2])"
   ]
  }
 ],
 "metadata": {
  "kernelspec": {
   "display_name": "Python 3",
   "language": "python",
   "name": "python3"
  },
  "language_info": {
   "codemirror_mode": {
    "name": "ipython",
    "version": 3
   },
   "file_extension": ".py",
   "mimetype": "text/x-python",
   "name": "python",
   "nbconvert_exporter": "python",
   "pygments_lexer": "ipython3",
   "version": "3.7.4"
  }
 },
 "nbformat": 4,
 "nbformat_minor": 2
}
